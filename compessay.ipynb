{
 "cells": [
  {
   "cell_type": "markdown",
   "metadata": {},
   "source": [
    "# Simulating Earths Magnetic Field\n",
    "\n",
    "## Introduction\n",
    "\n",
    "In this notebook, we will simulate Earth's magnetic field. This simulation will be simplified. The simulation will be simplified by only simulating a solenoid and its magnetic field. The simplification takes into use the dynamo theory."
   ]
  },
  {
   "cell_type": "markdown",
   "metadata": {},
   "source": [
    "## Theory\n",
    "\n",
    "Over the years, many theories have been proposed to explain how Earth's magnetic field is formed. The oldest theory is about Earth itself being a gigantic magnet, and that the Earth as a magnet has remained alive well into modern times. This theory however has to be discarded, the reason why it has been discarded is because of how the earth is built up. Our planet, the Earth, is made up of three main layers; the crust, the mantle, and the core. To our knowledge, Earth's temperature increases with depth. It has to be said that the rate of increase is not linear. The temperature of the base of the crust is around 1000°C, and the temperature of the inner core is estimated to be around 6000°C. Because of Earth's temperature, any known material with a permanent magnetic field would have lost its magnetism.\n",
    "\n",
    "The theory that most likely is the reason why Earth has a magnetic field, and how the magnetic field is maintained, is called the Dynamo theory. This theory is made up of several different natural phenomena and physical laws.\n",
    "\n",
    "Earth's core, as mentioned earlier, is one of three layers of the Earth. If we look closer at the earth's core, we can see that the core is also made up of different layers, or rather 2 layers. We have a solid inner core and an outer core that is fluid. We are not completely sure, but research suggests that the Earth's outer core is made up of a mass that has electrically conductive abilities.\n",
    "\n",
    "It is thought that a dynamo process takes place in the Earth's core, simply explained that the mass of the Earth's outer core floats and flows in a source field, by flowing in a source field an electric current is generated. This electric current helps to maintain the earth's magnetic field. The magnetic field interacts with the mass current, which causes the current in the Earth's outer core to further strengthen the magnetic field. If we add all these mass currents affecting the magnetic field, it looks like solenoids are formed. A solenoid is a type of electromagnet, which is made up of a helix consisting of electrically conductive material, where the length of the solenoid is longer than the diameter.\n"
   ]
  },
  {
   "cell_type": "markdown",
   "metadata": {},
   "source": [
    "## Method\n",
    "\n",
    "Before we continue talking about how we simulated the earth's magnetic field, a few things need to be clarified. Our simulation will only simulate solenoids and their magnetic field, instead of the earth's and its magnetic field. The reason why we simulate solenoids instead of the earth is that we base our simulation on the dynamo theory. As mentioned earlier the dynamo theory is about how the earth creates its solenoids inside the core and uses the solenoids to maintain its magnetic field. By only simulating solenoids we simplify the code, and we make the assumption that the earth is made up of solenoids. We will also only simulate one solenoid, instead of multiple solenoids. The reason for this is considered that adding multiple solenoids together is approximately equal to having one solenoid and that our personal computer's processing power limits us"
   ]
  },
  {
   "cell_type": "code",
   "execution_count": null,
   "metadata": {},
   "outputs": [],
   "source": []
  }
 ],
 "metadata": {
  "kernelspec": {
   "display_name": "Python 3 (ipykernel)",
   "language": "python",
   "name": "python3"
  },
  "language_info": {
   "codemirror_mode": {
    "name": "ipython",
    "version": 3
   },
   "file_extension": ".py",
   "mimetype": "text/x-python",
   "name": "python",
   "nbconvert_exporter": "python",
   "pygments_lexer": "ipython3",
   "version": "3.10.8"
  }
 },
 "nbformat": 4,
 "nbformat_minor": 2
}
